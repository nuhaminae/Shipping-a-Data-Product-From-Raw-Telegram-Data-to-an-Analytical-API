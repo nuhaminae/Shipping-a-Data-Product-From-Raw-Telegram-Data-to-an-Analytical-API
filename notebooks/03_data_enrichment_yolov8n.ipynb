{
 "cells": [
  {
   "cell_type": "markdown",
   "id": "9c022f68",
   "metadata": {},
   "source": [
    "# **Import Modules and Libraries**"
   ]
  },
  {
   "cell_type": "markdown",
   "id": "c2fb7e7b",
   "metadata": {},
   "source": [
    "## *python*"
   ]
  },
  {
   "cell_type": "code",
   "execution_count": 1,
   "id": "7cb845b6",
   "metadata": {},
   "outputs": [],
   "source": [
    "import os, sys"
   ]
  },
  {
   "cell_type": "markdown",
   "id": "7ac056b5",
   "metadata": {},
   "source": [
    "## *custom*"
   ]
  },
  {
   "cell_type": "code",
   "execution_count": null,
   "id": "7a0ef253",
   "metadata": {},
   "outputs": [
    {
     "name": "stdout",
     "output_type": "stream",
     "text": [
      "Module successfully imported.\n"
     ]
    }
   ],
   "source": [
    "# Import customised modules\n",
    "\n",
    "# Define path\n",
    "sys.path.append(os.path.abspath(os.path.join(os.getcwd(), \"..\")))\n",
    "\n",
    "# Import relevant modules\n",
    "try:\n",
    "    from scripts._03_data_enricher import DataEnricher\n",
    "\n",
    "    print(\"Module successfully imported.\")\n",
    "\n",
    "except ImportError as e:\n",
    "    print(f\"Could not import module from `scripts/`. Error: {e}\")"
   ]
  },
  {
   "cell_type": "markdown",
   "id": "348582f5",
   "metadata": {},
   "source": [
    "# **Enrich Data**"
   ]
  },
  {
   "cell_type": "code",
   "execution_count": null,
   "id": "04bf5332",
   "metadata": {},
   "outputs": [],
   "source": [
    "# Define paths\n",
    "output_path = os.path.join(\n",
    "    os.path.dirname(os.getcwd()), \"data/processed/fct_image_detections.json\"\n",
    ")\n",
    "image_dir = os.path.join(os.path.dirname(os.getcwd()), \"data\", \"images\")"
   ]
  },
  {
   "cell_type": "code",
   "execution_count": null,
   "id": "4c848ed0",
   "metadata": {},
   "outputs": [
    {
     "name": "stdout",
     "output_type": "stream",
     "text": [
      "Downloading https://github.com/ultralytics/assets/releases/download/v8.3.0/yolov8n.pt to 'yolov8n.pt'...\n"
     ]
    },
    {
     "name": "stderr",
     "output_type": "stream",
     "text": [
      "100%|██████████| 6.25M/6.25M [00:09<00:00, 671kB/s] \n",
      "2025-07-15 18:16:33,872 [INFO] YOLO model initialised.\n"
     ]
    }
   ],
   "source": [
    "# Initialise enricher class\n",
    "enricher = DataEnricher(image_dir=image_dir, output_path=output_path)"
   ]
  },
  {
   "cell_type": "code",
   "execution_count": 5,
   "id": "33601d4a",
   "metadata": {},
   "outputs": [
    {
     "name": "stderr",
     "output_type": "stream",
     "text": [
      "2025-07-15 18:16:33,889 [INFO] Starting enrichment...\n",
      "2025-07-15 18:16:33,920 [INFO] Connected to PostgreSQL.\n",
      "2025-07-15 18:51:09,315 [INFO] Finished enrichment for 14274 images.\n"
     ]
    }
   ],
   "source": [
    "# Process all images for enrichment\n",
    "enricher.process_all()"
   ]
  },
  {
   "cell_type": "code",
   "execution_count": 6,
   "id": "42cdeeb8",
   "metadata": {},
   "outputs": [
    {
     "name": "stderr",
     "output_type": "stream",
     "text": [
      "2025-07-15 18:51:10,049 [INFO] Saved detections to c:\\Users\\nuhamin\\Documents\\kifiya\\week 7\\Shipping-a-Data-Product-From-Raw-Telegram-Data-to-an-Analytical-API\\data/processed/fct_image_detections.json\n"
     ]
    }
   ],
   "source": [
    "# Save the enriched results to a JSON file\n",
    "enricher.save_results()"
   ]
  }
 ],
 "metadata": {
  "kernelspec": {
   "display_name": ".televenv",
   "language": "python",
   "name": "python3"
  },
  "language_info": {
   "codemirror_mode": {
    "name": "ipython",
    "version": 3
   },
   "file_extension": ".py",
   "mimetype": "text/x-python",
   "name": "python",
   "nbconvert_exporter": "python",
   "pygments_lexer": "ipython3",
   "version": "3.12.3"
  }
 },
 "nbformat": 4,
 "nbformat_minor": 5
}
