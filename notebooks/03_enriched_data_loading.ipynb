{
 "cells": [
  {
   "cell_type": "markdown",
   "id": "3236964e",
   "metadata": {},
   "source": [
    "# **Import Modules and Libraries**"
   ]
  },
  {
   "cell_type": "markdown",
   "id": "98519630",
   "metadata": {},
   "source": [
    "## *python*"
   ]
  },
  {
   "cell_type": "code",
   "execution_count": 1,
   "id": "b059a034",
   "metadata": {},
   "outputs": [],
   "source": [
    "import os, sys"
   ]
  },
  {
   "cell_type": "markdown",
   "id": "bf66e8c2",
   "metadata": {},
   "source": [
    "## *custom*"
   ]
  },
  {
   "cell_type": "code",
   "execution_count": 2,
   "id": "9bc09e96",
   "metadata": {},
   "outputs": [
    {
     "name": "stdout",
     "output_type": "stream",
     "text": [
      "Module sucessfully imported.\n"
     ]
    }
   ],
   "source": [
    "# Import customised modules\n",
    "\n",
    "# Define path\n",
    "sys.path.append(os.path.abspath(os.path.join(\"..\")))\n",
    "\n",
    "# Import relevant modules\n",
    "try:\n",
    "    from scripts._03_enriched_data_loader import EnrichedDataLoader\n",
    "\n",
    "    # %run scripts/_03_enriched_data_loader.py\n",
    "\n",
    "    print(\"Module sucessfully imported.\")\n",
    "\n",
    "except ImportError:\n",
    "    print(\"Could not import module from `scripts/`. Error: {e}\")"
   ]
  },
  {
   "cell_type": "markdown",
   "id": "752420e6",
   "metadata": {},
   "source": [
    "# **Load Data**"
   ]
  },
  {
   "cell_type": "code",
   "execution_count": 3,
   "id": "884fd2c1",
   "metadata": {},
   "outputs": [
    {
     "name": "stderr",
     "output_type": "stream",
     "text": [
      "2025-07-15 21:20:16,803 [INFO] EnrichedDataLoader initialised.\n",
      "2025-07-15 21:20:16,807 [INFO] Loading environment variables...\n",
      "2025-07-15 21:20:16,895 [INFO] Connected to PostgreSQL database.\n",
      "2025-07-15 21:20:16,895 [INFO] Ensuring enriched schema and fct_image_detections table exist...\n",
      "2025-07-15 21:20:17,184 [INFO] Schema and table setup completed.\n",
      "2025-07-15 21:20:17,187 [INFO] Loading messages from JSON files...\n",
      "2025-07-15 21:24:54,653 [INFO] 63826 detections loaded into enriched.fct_image_detections.\n",
      "2025-07-15 21:24:54,653 [INFO] Enriched messages loaded successfully.\n"
     ]
    }
   ],
   "source": [
    "# Load data\n",
    "data_loader = EnrichedDataLoader(path=\"../data/processed/fct_image_detections.json\")\n",
    "data_loader.load_enriched_messages()"
   ]
  }
 ],
 "metadata": {
  "kernelspec": {
   "display_name": ".televenv",
   "language": "python",
   "name": "python3"
  },
  "language_info": {
   "codemirror_mode": {
    "name": "ipython",
    "version": 3
   },
   "file_extension": ".py",
   "mimetype": "text/x-python",
   "name": "python",
   "nbconvert_exporter": "python",
   "pygments_lexer": "ipython3",
   "version": "3.12.3"
  }
 },
 "nbformat": 4,
 "nbformat_minor": 5
}
