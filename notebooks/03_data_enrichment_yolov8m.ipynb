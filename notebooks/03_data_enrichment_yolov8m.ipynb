{
 "cells": [
  {
   "cell_type": "markdown",
   "id": "5c635674",
   "metadata": {},
   "source": [
    "# **Import Modules and Libraries**"
   ]
  },
  {
   "cell_type": "markdown",
   "id": "72e8b849",
   "metadata": {},
   "source": [
    "## *python*"
   ]
  },
  {
   "cell_type": "code",
   "execution_count": 1,
   "id": "4aae2af1",
   "metadata": {},
   "outputs": [],
   "source": [
    "import os, sys"
   ]
  },
  {
   "cell_type": "markdown",
   "id": "b56552c9",
   "metadata": {},
   "source": [
    "## *custom*"
   ]
  },
  {
   "cell_type": "code",
   "execution_count": 2,
   "id": "d1fe5fa7",
   "metadata": {},
   "outputs": [
    {
     "name": "stdout",
     "output_type": "stream",
     "text": [
      "Module successfully imported.\n"
     ]
    }
   ],
   "source": [
    "# Import customised modules\n",
    "\n",
    "# Define path\n",
    "sys.path.append(os.path.abspath(os.path.join(os.getcwd(), \"..\")))\n",
    "\n",
    "# Import relevant modules\n",
    "try:\n",
    "    from scripts._03_data_enricher import DataEnricher\n",
    "\n",
    "    print(\"Module successfully imported.\")\n",
    "\n",
    "except ImportError as e:\n",
    "    print(f\"Could not import module from `scripts/`. Error: {e}\")"
   ]
  },
  {
   "cell_type": "markdown",
   "id": "1604c354",
   "metadata": {},
   "source": [
    "# **Enrich Data**"
   ]
  },
  {
   "cell_type": "code",
   "execution_count": 3,
   "id": "c56c1e90",
   "metadata": {},
   "outputs": [],
   "source": [
    "# Define paths\n",
    "model_path = \"yolov8m.pt\"\n",
    "output_path = os.path.join(\n",
    "    os.path.dirname(os.getcwd()), \"data/processed/fct_image_detections_yolov8m.json\"\n",
    ")\n",
    "image_dir = os.path.join(os.path.dirname(os.getcwd()), \"data\", \"images\")"
   ]
  },
  {
   "cell_type": "code",
   "execution_count": 4,
   "id": "56809cce",
   "metadata": {},
   "outputs": [
    {
     "name": "stdout",
     "output_type": "stream",
     "text": [
      "Downloading https://github.com/ultralytics/assets/releases/download/v8.3.0/yolov8m.pt to 'yolov8m.pt'...\n"
     ]
    },
    {
     "name": "stderr",
     "output_type": "stream",
     "text": [
      "100%|██████████| 49.7M/49.7M [01:25<00:00, 609kB/s] \n",
      "2025-07-15 20:53:00,349 [INFO] YOLO model initialised.\n"
     ]
    }
   ],
   "source": [
    "# Initialise enricher class\n",
    "enricher = DataEnricher(\n",
    "    model_path=model_path, image_dir=image_dir, output_path=output_path\n",
    ")"
   ]
  },
  {
   "cell_type": "code",
   "execution_count": 5,
   "id": "17abc358",
   "metadata": {},
   "outputs": [
    {
     "name": "stderr",
     "output_type": "stream",
     "text": [
      "2025-07-15 20:53:00,376 [INFO] Starting enrichment...\n",
      "2025-07-15 20:53:00,413 [INFO] Connected to PostgreSQL.\n",
      "2025-07-15 23:49:56,326 [INFO] Finished enrichment for 14274 images.\n"
     ]
    }
   ],
   "source": [
    "# Process all images for enrichment\n",
    "enricher.process_all()"
   ]
  },
  {
   "cell_type": "code",
   "execution_count": 6,
   "id": "67bce8dd",
   "metadata": {},
   "outputs": [
    {
     "name": "stderr",
     "output_type": "stream",
     "text": [
      "2025-07-15 23:49:57,475 [INFO] Saved 81370 detections to ..\\data\\processed\\fct_image_detections_yolov8m.json\n"
     ]
    }
   ],
   "source": [
    "# Save the enriched results to a JSON file\n",
    "enricher.save_results()"
   ]
  }
 ],
 "metadata": {
  "kernelspec": {
   "display_name": ".televenv",
   "language": "python",
   "name": "python3"
  },
  "language_info": {
   "codemirror_mode": {
    "name": "ipython",
    "version": 3
   },
   "file_extension": ".py",
   "mimetype": "text/x-python",
   "name": "python",
   "nbconvert_exporter": "python",
   "pygments_lexer": "ipython3",
   "version": "3.12.3"
  }
 },
 "nbformat": 4,
 "nbformat_minor": 5
}
