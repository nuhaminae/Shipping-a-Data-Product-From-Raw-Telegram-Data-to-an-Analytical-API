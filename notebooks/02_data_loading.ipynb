{
 "cells": [
  {
   "cell_type": "markdown",
   "id": "09352189",
   "metadata": {},
   "source": [
    "# **Import Modules and Libraries**"
   ]
  },
  {
   "cell_type": "markdown",
   "id": "73d861b8",
   "metadata": {},
   "source": [
    "## *python*"
   ]
  },
  {
   "cell_type": "code",
   "execution_count": 1,
   "id": "1983e43c",
   "metadata": {},
   "outputs": [],
   "source": [
    "import os, sys"
   ]
  },
  {
   "cell_type": "markdown",
   "id": "ca4b5878",
   "metadata": {},
   "source": [
    "## *custom*"
   ]
  },
  {
   "cell_type": "code",
   "execution_count": null,
   "id": "ebb978f5",
   "metadata": {},
   "outputs": [
    {
     "name": "stdout",
     "output_type": "stream",
     "text": [
      "Module sucessfully imported.\n"
     ]
    }
   ],
   "source": [
    "# Import customised modules\n",
    "\n",
    "# Define path\n",
    "sys.path.append(os.path.abspath(os.path.join(\"..\")))\n",
    "\n",
    "# Import relevant modules\n",
    "try:\n",
    "    from scripts._02_data_loader import load_telegram_messages\n",
    "\n",
    "    # %run scripts/_02_data_loader.py\n",
    "\n",
    "    print(\"Module sucessfully imported.\")\n",
    "\n",
    "except ImportError:\n",
    "    print(\"Could not import module from `scripts/`. Error: {e}\")"
   ]
  },
  {
   "cell_type": "markdown",
   "id": "c9aca29b",
   "metadata": {},
   "source": [
    "# **Load Data**"
   ]
  },
  {
   "cell_type": "code",
   "execution_count": 3,
   "id": "6d04fe6e",
   "metadata": {},
   "outputs": [
    {
     "name": "stderr",
     "output_type": "stream",
     "text": [
      "2025-07-13 13:34:49,955 [INFO] Loading environment variables...\n",
      "2025-07-13 13:34:49,976 [INFO] Connected to PostgreSQL database.\n",
      "2025-07-13 13:34:49,978 [INFO] Ensuring raw schema and telegram_messages table exist...\n",
      "2025-07-13 13:34:50,007 [INFO] Schema and table setup completed.\n",
      "2025-07-13 13:34:50,008 [INFO] Loading messages from ../data/raw/telegram_messages/2025-07-11/CheMed123.json\n",
      "2025-07-13 13:34:50,072 [INFO] Loading messages from ../data/raw/telegram_messages/2025-07-11/lobelia4cosmetics.json\n",
      "2025-07-13 13:34:51,420 [INFO] Loading messages from ../data/raw/telegram_messages/2025-07-11/newoptics.json\n",
      "2025-07-13 13:34:53,649 [INFO] Loading messages from ../data/raw/telegram_messages/2025-07-11/thiopianfoodanddrugauthority.json\n",
      "2025-07-13 13:34:57,406 [INFO] Loading messages from ../data/raw/telegram_messages/2025-07-11/tikvahpharma.json\n",
      "2025-07-13 13:35:04,837 [INFO] Loading messages from ../data/raw/telegram_messages/2025-07-11/yetenaweg.json\n",
      "2025-07-13 13:35:05,769 [INFO] Load complete: 21055 messages inserted.\n"
     ]
    }
   ],
   "source": [
    "# Load data\n",
    "load_telegram_messages()"
   ]
  }
 ],
 "metadata": {
  "kernelspec": {
   "display_name": ".televenv",
   "language": "python",
   "name": "python3"
  },
  "language_info": {
   "codemirror_mode": {
    "name": "ipython",
    "version": 3
   },
   "file_extension": ".py",
   "mimetype": "text/x-python",
   "name": "python",
   "nbconvert_exporter": "python",
   "pygments_lexer": "ipython3",
   "version": "3.12.3"
  }
 },
 "nbformat": 4,
 "nbformat_minor": 5
}
