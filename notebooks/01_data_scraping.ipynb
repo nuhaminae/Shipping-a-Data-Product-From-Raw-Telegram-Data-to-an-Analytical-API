{
 "cells": [
  {
   "cell_type": "markdown",
   "id": "7a10666a",
   "metadata": {},
   "source": [
    "# **Import Modules and Libraries**"
   ]
  },
  {
   "cell_type": "markdown",
   "id": "6d8c6259",
   "metadata": {},
   "source": [
    "## *python*"
   ]
  },
  {
   "cell_type": "code",
   "execution_count": 1,
   "id": "b58ae51c",
   "metadata": {},
   "outputs": [],
   "source": [
    "import os, sys"
   ]
  },
  {
   "cell_type": "markdown",
   "id": "ac795ec3",
   "metadata": {},
   "source": [
    "## *custom*"
   ]
  },
  {
   "cell_type": "code",
   "execution_count": 2,
   "id": "1ec3e1b7",
   "metadata": {},
   "outputs": [
    {
     "name": "stdout",
     "output_type": "stream",
     "text": [
      "Module successfully imported.\n"
     ]
    }
   ],
   "source": [
    "# Import customised modules\n",
    "\n",
    "# Define path\n",
    "sys.path.append(os.path.abspath(os.path.join(os.getcwd(), \"..\")))\n",
    "\n",
    "# Import relevant modules\n",
    "try:\n",
    "    from scripts._01_scraper import main\n",
    "\n",
    "    print(\"Module successfully imported.\")\n",
    "\n",
    "except ImportError as e:\n",
    "    print(f\"Could not import module from `scripts/`. Error: {e}\")"
   ]
  },
  {
   "cell_type": "markdown",
   "id": "558751e5",
   "metadata": {},
   "source": [
    "# **Scrap Data**"
   ]
  },
  {
   "cell_type": "code",
   "execution_count": 3,
   "id": "e048b9ff",
   "metadata": {},
   "outputs": [
    {
     "name": "stdout",
     "output_type": "stream",
     "text": [
      "\n",
      "Started scraping from @lobelia4cosmetics ...\n",
      "@lobelia4cosmetics scraped in 886.03 seconds.\n",
      "Scraped 1803 messages from @lobelia4cosmetics.\n",
      "Scraped data from @lobelia4cosmetics saved to ../data/raw/telegram_messages/2025-07-15/lobelia4cosmetics.json.\n",
      "\n",
      "\n",
      "Started scraping from @tikvahpharma ...\n",
      "@tikvahpharma scraped in 2727.91 seconds.\n",
      "Scraped 10000 messages from @tikvahpharma.\n",
      "Scraped data from @tikvahpharma saved to ../data/raw/telegram_messages/2025-07-15/tikvahpharma.json.\n",
      "\n",
      "\n",
      "Started scraping from @yetenaweg ...\n",
      "@yetenaweg scraped in 390.47 seconds.\n",
      "Scraped 1218 messages from @yetenaweg.\n",
      "Scraped data from @yetenaweg saved to ../data/raw/telegram_messages/2025-07-15/yetenaweg.json.\n",
      "\n",
      "\n",
      "Started scraping from ethiopianfoodanddrugauthority ...\n",
      "ethiopianfoodanddrugauthority scraped in 2804.18 seconds.\n",
      "Scraped 5185 messages from ethiopianfoodanddrugauthority.\n",
      "Scraped data from ethiopianfoodanddrugauthority saved to ../data/raw/telegram_messages/2025-07-15/thiopianfoodanddrugauthority.json.\n",
      "\n",
      "\n",
      "Started scraping from @CheMed123 ...\n",
      "@CheMed123 scraped in 33.51 seconds.\n",
      "Scraped 76 messages from @CheMed123.\n",
      "Scraped data from @CheMed123 saved to ../data/raw/telegram_messages/2025-07-15/CheMed123.json.\n",
      "\n",
      "\n",
      "Started scraping from @newoptics ...\n",
      "@newoptics scraped in 638.37 seconds.\n",
      "Scraped 2740 messages from @newoptics.\n",
      "Scraped data from @newoptics saved to ../data/raw/telegram_messages/2025-07-15/newoptics.json.\n",
      "\n",
      "All channels scraped successfully.\n"
     ]
    }
   ],
   "source": [
    "# Scrap data\n",
    "await main()"
   ]
  }
 ],
 "metadata": {
  "kernelspec": {
   "display_name": ".televenv",
   "language": "python",
   "name": "python3"
  },
  "language_info": {
   "codemirror_mode": {
    "name": "ipython",
    "version": 3
   },
   "file_extension": ".py",
   "mimetype": "text/x-python",
   "name": "python",
   "nbconvert_exporter": "python",
   "pygments_lexer": "ipython3",
   "version": "3.12.3"
  }
 },
 "nbformat": 4,
 "nbformat_minor": 5
}
